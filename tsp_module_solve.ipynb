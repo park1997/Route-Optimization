{
 "cells": [
  {
   "cell_type": "code",
   "execution_count": 6,
   "metadata": {
    "ExecuteTime": {
     "end_time": "2021-04-28T11:23:15.238003Z",
     "start_time": "2021-04-28T11:23:15.227125Z"
    }
   },
   "outputs": [
    {
     "name": "stdout",
     "output_type": "stream",
     "text": [
      "Requirement already satisfied: python_tsp in /opt/anaconda3/lib/python3.8/site-packages (0.2.0)\n",
      "Requirement already satisfied: numpy<2.0.0,>=1.18.5 in /opt/anaconda3/lib/python3.8/site-packages (from python_tsp) (1.19.2)\n",
      "Note: you may need to restart the kernel to use updated packages.\n"
     ]
    }
   ],
   "source": [
    "%pip install python_tsp\n",
    "import numpy as np\n",
    "import math\n",
    "import matplotlib.pyplot as plt\n",
    "from python_tsp.heuristics import solve_tsp_local_search\n",
    "from python_tsp.heuristics import solve_tsp_simulated_annealing\n",
    "from python_tsp.exact import solve_tsp_dynamic_programming\n",
    "import time\n",
    "from python_tsp.exact import solve_tsp_brute_force\n",
    "import random\n",
    "import pandas as pd\n",
    "%matplotlib inline"
   ]
  },
  {
   "cell_type": "code",
   "execution_count": 31,
   "metadata": {},
   "outputs": [
    {
     "name": "stdout",
     "output_type": "stream",
     "text": [
      "Data/PDP_TW (1).xlsx\n",
      "DP\n",
      "distance : 1798\n",
      "dp_permutation : [0, 1, 9, 14, 11, 8, 3, 18, 4, 7, 15, 5, 19, 2, 10, 12, 13, 16, 17, 6]\n",
      "시간 : 102.89001607894897\n",
      "\n",
      "SA\n",
      "distance : 1798\n",
      "sa_permutation : [0, 4, 18, 14, 9, 11, 1, 8, 3, 7, 15, 5, 19, 6, 17, 10, 12, 13, 16, 2]\n",
      "시간:  0.46647095680236816\n",
      "오차 : 0.0\n",
      "\n",
      "LocalSearch\n",
      "distance : 1798\n",
      "ls_permutation : [0, 6, 17, 16, 12, 10, 13, 2, 19, 7, 4, 3, 8, 1, 11, 14, 9, 18, 15, 5]\n",
      "시간 : 0.007728099822998047\n",
      "오차 : 0.0\n"
     ]
    }
   ],
   "source": [
    "ad = \"Data/PDP_TW (1).xlsx\"\n",
    "print(ad)\n",
    "df = pd.read_excel(ad) \n",
    "df = df[[\"Pos1\",\"Pos2\"]]\n",
    "coordinates_arr = np.array(df)\n",
    "dist = []\n",
    "for i in range(coordinates_arr.shape[0]):\n",
    "    arr = []\n",
    "    for j in range(coordinates_arr.shape[0]):\n",
    "        if i == j:\n",
    "            arr.append(0)\n",
    "        else:\n",
    "            arr.append(math.dist(coordinates_arr[i,1:],coordinates_arr[j,1:]))\n",
    "    dist.append(arr)\n",
    "dist = np.array(dist,dtype = 'int')\n",
    "\n",
    "# dp 로 구한 정확한 해 \n",
    "before_time = time.time()\n",
    "dp_kernel = solve_tsp_dynamic_programming(dist)\n",
    "dp_distance = dp_kernel[1]\n",
    "dp_permutation = dp_kernel[0]\n",
    "after_time = time.time() \n",
    "print(\"DP\")\n",
    "print(f\"distance : {dp_distance}\")\n",
    "print(f\"dp_permutation : {dp_permutation}\")\n",
    "print('시간 :',after_time - before_time)\n",
    "print()\n",
    "\n",
    "\n",
    "# sa 로 구한 해 \n",
    "before_time = time.time()\n",
    "kernel = solve_tsp_simulated_annealing(dist)\n",
    "sa_distance = kernel[1]\n",
    "sa_permutation = kernel[0]\n",
    "after_time = time.time() \n",
    "\n",
    "print(\"SA\")\n",
    "print(f\"distance : {sa_distance}\")\n",
    "print(f\"sa_permutation : {sa_permutation}\")\n",
    "print('시간: ',after_time - before_time)\n",
    "print(f'오차 : {(sa_distance-dp_distance)/ dp_distance}')\n",
    "print()\n",
    "\n",
    "\n",
    "# local_Search로 구한것\n",
    "before_time = time.time()\n",
    "ls_permutation, ls_distance = solve_tsp_local_search(dist)\n",
    "after_time = time.time()\n",
    "\n",
    "print(\"LocalSearch\")\n",
    "print(f\"distance : {ls_distance}\")\n",
    "print(f\"ls_permutation : {ls_permutation}\")\n",
    "print('시간 :', after_time - before_time)\n",
    "print(f'오차 : {(ls_distance-dp_distance)/ dp_distance }')\n",
    "\n"
   ]
  },
  {
   "cell_type": "markdown",
   "metadata": {},
   "source": [
    "## sa로구한 해의 그래프"
   ]
  },
  {
   "cell_type": "code",
   "execution_count": 30,
   "metadata": {
    "ExecuteTime": {
     "end_time": "2021-04-28T11:21:54.959876Z",
     "start_time": "2021-04-28T11:21:54.820543Z"
    }
   },
   "outputs": [
    {
     "data": {
      "image/png": "[encoded data removed]",
      "text/plain": [
       "<Figure size 432x288 with 1 Axes>"
      ]
     },
     "metadata": {
      "needs_background": "light"
     },
     "output_type": "display_data"
    },
    {
     "data": {
      "text/plain": [
       "<Figure size 57600x43200 with 0 Axes>"
      ]
     },
     "metadata": {},
     "output_type": "display_data"
    }
   ],
   "source": [
    "sa_x_list = [];sa_y_list = []\n",
    "for i in range(20):\n",
    "\n",
    "    \n",
    "    x = coordinates_arr[sa_permutation[i]][0]\n",
    "    y = coordinates_arr[sa_permutation[i]][1]\n",
    "    sa_x_list.append(x)\n",
    "    sa_y_list.append(y)\n",
    "    \n",
    "plt.plot(sa_x_list,sa_y_list)\n",
    "plt.figure(figsize=(800,600))\n",
    "plt.show()\n"
   ]
  },
  {
   "cell_type": "markdown",
   "metadata": {},
   "source": [
    "## ls로 구한 해의 그래프"
   ]
  },
  {
   "cell_type": "code",
   "execution_count": 29,
   "metadata": {
    "ExecuteTime": {
     "end_time": "2021-04-28T11:15:44.437126Z",
     "start_time": "2021-04-28T11:15:44.320798Z"
    }
   },
   "outputs": [
    {
     "name": "stdout",
     "output_type": "stream",
     "text": [
      "[0, 7, 5, 10, 4, 17, 12, 2, 9, 16, 6, 18, 3, 15, 19, 8, 13, 14, 11, 1]\n"
     ]
    },
    {
     "ename": "IndexError",
     "evalue": "index 2 is out of bounds for axis 0 with size 2",
     "output_type": "error",
     "traceback": [
      "\u001b[0;31m---------------------------------------------------------------------------\u001b[0m",
      "\u001b[0;31mIndexError\u001b[0m                                Traceback (most recent call last)",
      "\u001b[0;32m<ipython-input-29-395522da873d>\u001b[0m in \u001b[0;36m<module>\u001b[0;34m\u001b[0m\n\u001b[1;32m      3\u001b[0m \u001b[0;32mfor\u001b[0m \u001b[0mi\u001b[0m \u001b[0;32min\u001b[0m \u001b[0mrange\u001b[0m\u001b[0;34m(\u001b[0m\u001b[0;36m20\u001b[0m\u001b[0;34m)\u001b[0m\u001b[0;34m:\u001b[0m\u001b[0;34m\u001b[0m\u001b[0;34m\u001b[0m\u001b[0m\n\u001b[1;32m      4\u001b[0m     \u001b[0mx\u001b[0m \u001b[0;34m=\u001b[0m \u001b[0mcoordinates_arr\u001b[0m\u001b[0;34m[\u001b[0m\u001b[0mi\u001b[0m\u001b[0;34m]\u001b[0m\u001b[0;34m[\u001b[0m\u001b[0;36m1\u001b[0m\u001b[0;34m]\u001b[0m\u001b[0;34m\u001b[0m\u001b[0;34m\u001b[0m\u001b[0m\n\u001b[0;32m----> 5\u001b[0;31m     \u001b[0my\u001b[0m \u001b[0;34m=\u001b[0m \u001b[0mcoordinates_arr\u001b[0m\u001b[0;34m[\u001b[0m\u001b[0mi\u001b[0m\u001b[0;34m]\u001b[0m\u001b[0;34m[\u001b[0m\u001b[0;36m2\u001b[0m\u001b[0;34m]\u001b[0m\u001b[0;34m\u001b[0m\u001b[0;34m\u001b[0m\u001b[0m\n\u001b[0m\u001b[1;32m      6\u001b[0m     \u001b[0mls_x_list\u001b[0m\u001b[0;34m.\u001b[0m\u001b[0mappend\u001b[0m\u001b[0;34m(\u001b[0m\u001b[0mx\u001b[0m\u001b[0;34m)\u001b[0m\u001b[0;34m\u001b[0m\u001b[0;34m\u001b[0m\u001b[0m\n\u001b[1;32m      7\u001b[0m     \u001b[0mls_y_list\u001b[0m\u001b[0;34m.\u001b[0m\u001b[0mappend\u001b[0m\u001b[0;34m(\u001b[0m\u001b[0my\u001b[0m\u001b[0;34m)\u001b[0m\u001b[0;34m\u001b[0m\u001b[0;34m\u001b[0m\u001b[0m\n",
      "\u001b[0;31mIndexError\u001b[0m: index 2 is out of bounds for axis 0 with size 2"
     ]
    }
   ],
   "source": [
    "ls_x_list = [];ls_y_list = []\n",
    "print(ls_permutation)\n",
    "for i in range(20):\n",
    "    x = coordinates_arr[i][1]\n",
    "    y = coordinates_arr[i][2]\n",
    "    ls_x_list.append(x)\n",
    "    ls_y_list.append(y)\n",
    "\n",
    "plt.plot(ls_x_list,ls_y_list)\n",
    "plt.figure(figsize=(800,600))\n",
    "plt.show()"
   ]
  },
  {
   "cell_type": "markdown",
   "metadata": {},
   "source": [
    "## dp로 구한 해의 그래프"
   ]
  },
  {
   "cell_type": "code",
   "execution_count": 20,
   "metadata": {
    "ExecuteTime": {
     "end_time": "2021-04-28T11:16:25.528467Z",
     "start_time": "2021-04-28T11:16:25.407904Z"
    }
   },
   "outputs": [
    {
     "name": "stdout",
     "output_type": "stream",
     "text": [
      "[0, 7, 4, 18, 17, 12, 10, 1, 8, 5, 3, 2, 16, 15, 19, 13, 11, 9, 14, 6]\n"
     ]
    },
    {
     "ename": "IndexError",
     "evalue": "index 2 is out of bounds for axis 0 with size 2",
     "output_type": "error",
     "traceback": [
      "\u001b[0;31m---------------------------------------------------------------------------\u001b[0m",
      "\u001b[0;31mIndexError\u001b[0m                                Traceback (most recent call last)",
      "\u001b[0;32m<ipython-input-20-e8768851d7e8>\u001b[0m in \u001b[0;36m<module>\u001b[0;34m\u001b[0m\n\u001b[1;32m      3\u001b[0m \u001b[0;32mfor\u001b[0m \u001b[0mi\u001b[0m \u001b[0;32min\u001b[0m \u001b[0mrange\u001b[0m\u001b[0;34m(\u001b[0m\u001b[0;36m20\u001b[0m\u001b[0;34m)\u001b[0m\u001b[0;34m:\u001b[0m\u001b[0;34m\u001b[0m\u001b[0;34m\u001b[0m\u001b[0m\n\u001b[1;32m      4\u001b[0m     \u001b[0mx\u001b[0m \u001b[0;34m=\u001b[0m \u001b[0mcoordinates_arr\u001b[0m\u001b[0;34m[\u001b[0m\u001b[0mdp_permutation\u001b[0m\u001b[0;34m[\u001b[0m\u001b[0mi\u001b[0m\u001b[0;34m]\u001b[0m\u001b[0;34m]\u001b[0m\u001b[0;34m[\u001b[0m\u001b[0;36m1\u001b[0m\u001b[0;34m]\u001b[0m\u001b[0;34m\u001b[0m\u001b[0;34m\u001b[0m\u001b[0m\n\u001b[0;32m----> 5\u001b[0;31m     \u001b[0my\u001b[0m \u001b[0;34m=\u001b[0m \u001b[0mcoordinates_arr\u001b[0m\u001b[0;34m[\u001b[0m\u001b[0mdp_permutation\u001b[0m\u001b[0;34m[\u001b[0m\u001b[0mi\u001b[0m\u001b[0;34m]\u001b[0m\u001b[0;34m]\u001b[0m\u001b[0;34m[\u001b[0m\u001b[0;36m2\u001b[0m\u001b[0;34m]\u001b[0m\u001b[0;34m\u001b[0m\u001b[0;34m\u001b[0m\u001b[0m\n\u001b[0m\u001b[1;32m      6\u001b[0m     \u001b[0mdp_x_list\u001b[0m\u001b[0;34m.\u001b[0m\u001b[0mappend\u001b[0m\u001b[0;34m(\u001b[0m\u001b[0mx\u001b[0m\u001b[0;34m)\u001b[0m\u001b[0;34m\u001b[0m\u001b[0;34m\u001b[0m\u001b[0m\n\u001b[1;32m      7\u001b[0m     \u001b[0mdp_y_list\u001b[0m\u001b[0;34m.\u001b[0m\u001b[0mappend\u001b[0m\u001b[0;34m(\u001b[0m\u001b[0my\u001b[0m\u001b[0;34m)\u001b[0m\u001b[0;34m\u001b[0m\u001b[0;34m\u001b[0m\u001b[0m\n",
      "\u001b[0;31mIndexError\u001b[0m: index 2 is out of bounds for axis 0 with size 2"
     ]
    }
   ],
   "source": [
    "dp_x_list = [];dp_y_list = []\n",
    "print(kernel[0])\n",
    "for i in range(20):\n",
    "    x = coordinates_arr[dp_permutation[i]][1]\n",
    "    y = coordinates_arr[dp_permutation[i]][2]\n",
    "    dp_x_list.append(x)\n",
    "    dp_y_list.append(y)\n",
    "\n",
    "plt.plot(dp_x_list,dp_y_list)\n",
    "plt.figure(figsize=(800,600))\n",
    "plt.show()"
   ]
  }
 ],
 "metadata": {
  "kernelspec": {
   "display_name": "Python 3",
   "language": "python",
   "name": "python3"
  },
  "language_info": {
   "codemirror_mode": {
    "name": "ipython",
    "version": 3
   },
   "file_extension": ".py",
   "mimetype": "text/x-python",
   "name": "python",
   "nbconvert_exporter": "python",
   "pygments_lexer": "ipython3",
   "version": "3.8.5"
  },
  "varInspector": {
   "cols": {
    "lenName": 16,
    "lenType": 16,
    "lenVar": 40
   },
   "kernels_config": {
    "python": {
     "delete_cmd_postfix": "",
     "delete_cmd_prefix": "del ",
     "library": "var_list.py",
     "varRefreshCmd": "print(var_dic_list())"
    },
    "r": {
     "delete_cmd_postfix": ") ",
     "delete_cmd_prefix": "rm(",
     "library": "var_list.r",
     "varRefreshCmd": "cat(var_dic_list()) "
    }
   },
   "types_to_exclude": [
    "module",
    "function",
    "builtin_function_or_method",
    "instance",
    "_Feature"
   ],
   "window_display": false
  }
 },
 "nbformat": 4,
 "nbformat_minor": 5
}
